{
  "nbformat": 4,
  "nbformat_minor": 0,
  "metadata": {
    "colab": {
      "name": "EDA for Salary Data.ipynb",
      "provenance": [],
      "collapsed_sections": []
    },
    "kernelspec": {
      "name": "python3",
      "display_name": "Python 3"
    }
  },
  "cells": [
    {
      "cell_type": "code",
      "metadata": {
        "id": "lI0WhrTP9b_a"
      },
      "source": [
        "import numpy as np \n",
        "import pandas as pd \n",
        "import seaborn as sns\n",
        "import matplotlib.pyplot as plt\n",
        "import math"
      ],
      "execution_count": 3,
      "outputs": []
    },
    {
      "cell_type": "code",
      "metadata": {
        "id": "mwcHwq6q_U1-"
      },
      "source": [
        "salary_data=pd.read_excel(\"Final data.xlsx\",index_col=0)"
      ],
      "execution_count": 4,
      "outputs": []
    },
    {
      "cell_type": "code",
      "metadata": {
        "id": "qiw2rJ6wGX0t",
        "outputId": "cc4a3d7d-4432-49ca-cda4-f74291d0d45f",
        "colab": {
          "base_uri": "https://localhost:8080/",
          "height": 598
        }
      },
      "source": [
        "salary_data.head()"
      ],
      "execution_count": 5,
      "outputs": [
        {
          "output_type": "execute_result",
          "data": {
            "text/html": [
              "<div>\n",
              "<style scoped>\n",
              "    .dataframe tbody tr th:only-of-type {\n",
              "        vertical-align: middle;\n",
              "    }\n",
              "\n",
              "    .dataframe tbody tr th {\n",
              "        vertical-align: top;\n",
              "    }\n",
              "\n",
              "    .dataframe thead th {\n",
              "        text-align: right;\n",
              "    }\n",
              "</style>\n",
              "<table border=\"1\" class=\"dataframe\">\n",
              "  <thead>\n",
              "    <tr style=\"text-align: right;\">\n",
              "      <th></th>\n",
              "      <th>Country</th>\n",
              "      <th>Country code</th>\n",
              "      <th>Job</th>\n",
              "      <th>Currency Notation</th>\n",
              "      <th>Avg. salary</th>\n",
              "      <th>Min. salary</th>\n",
              "      <th>Max. salary</th>\n",
              "      <th>Cities</th>\n",
              "      <th>Variation</th>\n",
              "      <th>Male percent</th>\n",
              "      <th>Female percent</th>\n",
              "      <th>convert</th>\n",
              "      <th>Avg. salary (USD)</th>\n",
              "      <th>Max. salary (USD)</th>\n",
              "      <th>Min. salary (USD)</th>\n",
              "      <th>Cost of living pm</th>\n",
              "      <th>First</th>\n",
              "      <th>Second</th>\n",
              "      <th>Third</th>\n",
              "      <th>Subsidiary</th>\n",
              "    </tr>\n",
              "  </thead>\n",
              "  <tbody>\n",
              "    <tr>\n",
              "      <th>0</th>\n",
              "      <td>INDIA</td>\n",
              "      <td>IN</td>\n",
              "      <td>AGM</td>\n",
              "      <td>₹</td>\n",
              "      <td>1687306.0</td>\n",
              "      <td>628000.0</td>\n",
              "      <td>3000000.0</td>\n",
              "      <td>Mumbai</td>\n",
              "      <td>14</td>\n",
              "      <td>89.2</td>\n",
              "      <td>10.6</td>\n",
              "      <td>0.014</td>\n",
              "      <td>23622.284</td>\n",
              "      <td>42000.0</td>\n",
              "      <td>8792.0</td>\n",
              "      <td>28405.58</td>\n",
              "      <td>Project Management</td>\n",
              "      <td>Leadership</td>\n",
              "      <td>Business Development</td>\n",
              "      <td>['Sales Management', 'People Management', 'Tea...</td>\n",
              "    </tr>\n",
              "    <tr>\n",
              "      <th>1</th>\n",
              "      <td>INDIA</td>\n",
              "      <td>IN</td>\n",
              "      <td>AGM</td>\n",
              "      <td>₹</td>\n",
              "      <td>1687306.0</td>\n",
              "      <td>628000.0</td>\n",
              "      <td>3000000.0</td>\n",
              "      <td>New Delhi</td>\n",
              "      <td>11</td>\n",
              "      <td>89.2</td>\n",
              "      <td>10.6</td>\n",
              "      <td>0.014</td>\n",
              "      <td>23622.284</td>\n",
              "      <td>42000.0</td>\n",
              "      <td>8792.0</td>\n",
              "      <td>27215.80</td>\n",
              "      <td>Project Management</td>\n",
              "      <td>Leadership</td>\n",
              "      <td>Business Development</td>\n",
              "      <td>['Sales Management', 'People Management', 'Tea...</td>\n",
              "    </tr>\n",
              "    <tr>\n",
              "      <th>2</th>\n",
              "      <td>INDIA</td>\n",
              "      <td>IN</td>\n",
              "      <td>AGM</td>\n",
              "      <td>₹</td>\n",
              "      <td>1687306.0</td>\n",
              "      <td>628000.0</td>\n",
              "      <td>3000000.0</td>\n",
              "      <td>Bangalore</td>\n",
              "      <td>7</td>\n",
              "      <td>89.2</td>\n",
              "      <td>10.6</td>\n",
              "      <td>0.014</td>\n",
              "      <td>23622.284</td>\n",
              "      <td>42000.0</td>\n",
              "      <td>8792.0</td>\n",
              "      <td>26220.74</td>\n",
              "      <td>Project Management</td>\n",
              "      <td>Leadership</td>\n",
              "      <td>Business Development</td>\n",
              "      <td>['Sales Management', 'People Management', 'Tea...</td>\n",
              "    </tr>\n",
              "    <tr>\n",
              "      <th>3</th>\n",
              "      <td>INDIA</td>\n",
              "      <td>IN</td>\n",
              "      <td>AGM</td>\n",
              "      <td>₹</td>\n",
              "      <td>1687306.0</td>\n",
              "      <td>628000.0</td>\n",
              "      <td>3000000.0</td>\n",
              "      <td>Pune</td>\n",
              "      <td>4</td>\n",
              "      <td>89.2</td>\n",
              "      <td>10.6</td>\n",
              "      <td>0.014</td>\n",
              "      <td>23622.284</td>\n",
              "      <td>42000.0</td>\n",
              "      <td>8792.0</td>\n",
              "      <td>24736.68</td>\n",
              "      <td>Project Management</td>\n",
              "      <td>Leadership</td>\n",
              "      <td>Business Development</td>\n",
              "      <td>['Sales Management', 'People Management', 'Tea...</td>\n",
              "    </tr>\n",
              "    <tr>\n",
              "      <th>4</th>\n",
              "      <td>INDIA</td>\n",
              "      <td>IN</td>\n",
              "      <td>AGM</td>\n",
              "      <td>₹</td>\n",
              "      <td>1687306.0</td>\n",
              "      <td>628000.0</td>\n",
              "      <td>3000000.0</td>\n",
              "      <td>Delhi</td>\n",
              "      <td>-4</td>\n",
              "      <td>89.2</td>\n",
              "      <td>10.6</td>\n",
              "      <td>0.014</td>\n",
              "      <td>23622.284</td>\n",
              "      <td>42000.0</td>\n",
              "      <td>8792.0</td>\n",
              "      <td>27215.80</td>\n",
              "      <td>Project Management</td>\n",
              "      <td>Leadership</td>\n",
              "      <td>Business Development</td>\n",
              "      <td>['Sales Management', 'People Management', 'Tea...</td>\n",
              "    </tr>\n",
              "  </tbody>\n",
              "</table>\n",
              "</div>"
            ],
            "text/plain": [
              "  Country  ...                                         Subsidiary\n",
              "0   INDIA  ...  ['Sales Management', 'People Management', 'Tea...\n",
              "1   INDIA  ...  ['Sales Management', 'People Management', 'Tea...\n",
              "2   INDIA  ...  ['Sales Management', 'People Management', 'Tea...\n",
              "3   INDIA  ...  ['Sales Management', 'People Management', 'Tea...\n",
              "4   INDIA  ...  ['Sales Management', 'People Management', 'Tea...\n",
              "\n",
              "[5 rows x 20 columns]"
            ]
          },
          "metadata": {
            "tags": []
          },
          "execution_count": 5
        }
      ]
    },
    {
      "cell_type": "code",
      "metadata": {
        "id": "XAKwD8BhGayr",
        "outputId": "2c1c0b8f-a1ee-4e9f-fe47-2fe7d4faec79",
        "colab": {
          "base_uri": "https://localhost:8080/",
          "height": 445
        }
      },
      "source": [
        "#Comparison of Male and Female Ratio For each country\n",
        "countries=salary_data['Country'].unique()\n",
        "mean_male_ratio_countries={}\n",
        "mean_female_ratio_countries={}\n",
        "for country in countries:\n",
        "  country_df=salary_data[salary_data['Country']==country]\n",
        "  \n",
        "  mean_male_ratio_country=country_df['Male percent'].mean()\n",
        "  mean_female_ratio_country=country_df['Female percent'].mean()\n",
        "  mean_male_ratio_countries[country]=mean_male_ratio_country\n",
        "  mean_female_ratio_countries[country]=mean_female_ratio_country\n",
        "plt.figure(figsize=(25,8))\n",
        "plt.bar(mean_male_ratio_countries.keys(),mean_male_ratio_countries.values())\n",
        "plt.bar(mean_female_ratio_countries.keys(),mean_female_ratio_countries.values(),color='pink')\n",
        "plt.title(\"Comparison of average male and female ratio accross whole country\")\n",
        "plt.xlabel('Countries')\n",
        "plt.ylabel('Ratio')\n",
        "plt.show()"
      ],
      "execution_count": 6,
      "outputs": [
        {
          "output_type": "display_data",
          "data": {
            "image/png": "[encoded data removed]",
            "text/plain": [
              "<Figure size 1800x576 with 1 Axes>"
            ]
          },
          "metadata": {
            "tags": [],
            "needs_background": "light"
          }
        }
      ]
    },
    {
      "cell_type": "code",
      "metadata": {
        "id": "zNqd-t7INZvh"
      },
      "source": [
        "salary_data['Cost of living pm (USD)']=salary_data['Cost of living pm']*salary_data['convert']"
      ],
      "execution_count": 7,
      "outputs": []
    },
    {
      "cell_type": "code",
      "metadata": {
        "id": "XWoAeDITNvGG",
        "outputId": "3964e911-fa3e-48e3-98aa-f5969886ac75",
        "colab": {
          "base_uri": "https://localhost:8080/",
          "height": 439
        }
      },
      "source": [
        "'''Countries in descending order of profit in which profit is the difference \n",
        "  between average cost of living of country and average of average salary of the \n",
        "  country\n",
        "'''\n",
        "average_sal='Avg. salary (USD)'\n",
        "col='Cost of living pm (USD)'\n",
        "mean_of_average_sal_for_countries={}\n",
        "mean_of_col_for_countries={}\n",
        "for country in countries:\n",
        "  country_df=salary_data[salary_data['Country']==country]\n",
        "  country_df=country_df[country_df[col]!=0]\n",
        "  mean_of_average_sal_for_country=country_df[average_sal].mean()\n",
        "  mean_of_col_for_country=country_df[col].mean()\n",
        "  mean_of_average_sal_for_countries[country]=mean_of_average_sal_for_country\n",
        "  mean_of_col_for_countries[country]=mean_of_col_for_country\n",
        "pairs=[(country,mean_of_average_sal_for_countries[country],mean_of_col_for_countries[country]) for country in countries if not math.isnan(mean_of_col_for_countries[country])]\n",
        "pairs.sort(key=lambda pair:(pair[1]-pair[2]),reverse=True)\n",
        "sorted_countries,avg_avg_sal,avg_col=list(zip(*pairs))\n",
        "plt.figure(figsize=(25,8))\n",
        "plt.bar(sorted_countries,avg_avg_sal)\n",
        "plt.bar(sorted_countries,avg_col,color='green')\n",
        "plt.title(\"Countries in descending order of profit\")\n",
        "plt.xlabel('Countries')\n",
        "plt.ylabel('Currency in USD')\n",
        "plt.show()"
      ],
      "execution_count": 8,
      "outputs": [
        {
          "output_type": "display_data",
          "data": {
            "image/png": "[encoded data removed]",
            "text/plain": [
              "<Figure size 1800x576 with 1 Axes>"
            ]
          },
          "metadata": {
            "tags": [],
            "needs_background": "light"
          }
        }
      ]
    },
    {
      "cell_type": "code",
      "metadata": {
        "id": "8G0f8DieZn2x",
        "outputId": "e709a0a8-d776-4828-e73e-3033e7a959b4",
        "colab": {
          "base_uri": "https://localhost:8080/"
        }
      },
      "source": [
        "'''Recommendation for Female about jobs'''\n",
        "print(\"List of Jobs that has Avg Female Ratio > Avg Male Ratio\")\n",
        "jobs=salary_data['Job'].unique()\n",
        "for job in jobs:\n",
        "  job_df=salary_data[salary_data['Job']==job]\n",
        "  if job_df['Female percent'].mean()>job_df['Male percent'].mean():\n",
        "    print(job)"
      ],
      "execution_count": 9,
      "outputs": [
        {
          "output_type": "stream",
          "text": [
            "List of Jobs that has Avg Female Ratio > Avg Male Ratio\n",
            "Primary School Teacher\n",
            "Secondary School Teacher\n",
            "High School Teacher\n",
            "Accountant\n"
          ],
          "name": "stdout"
        }
      ]
    },
    {
      "cell_type": "code",
      "metadata": {
        "id": "I1UD8Cn7ACyv",
        "outputId": "e9702b23-85bb-4f23-9a2b-d7750acf7d00",
        "colab": {
          "base_uri": "https://localhost:8080/",
          "height": 440
        }
      },
      "source": [
        "#TOP 10 jobs based on Avg Salary\n",
        "job_salary_map={}\n",
        "for job in jobs:\n",
        "  job_df=salary_data[salary_data['Job']==job]\n",
        "  avg_avg_sal=job_df[average_sal].mean()\n",
        "  job_salary_map[job]=avg_avg_sal\n",
        "new_df=pd.DataFrame(list(job_salary_map.items()),columns=[\"job\",average_sal])\n",
        "\n",
        "plt.figure(figsize=(25,8))\n",
        "new_df=new_df.nlargest(10,average_sal)\n",
        "plt.bar(new_df['job'],new_df[average_sal])\n",
        "plt.title(\"Top 10 jobs based on Average of Avg Sal\")\n",
        "plt.xlabel('Jobs')\n",
        "plt.ylabel('Currency in USD')\n",
        "plt.show()"
      ],
      "execution_count": 10,
      "outputs": [
        {
          "output_type": "display_data",
          "data": {
            "image/png": "[encoded data removed]",
            "text/plain": [
              "<Figure size 1800x576 with 1 Axes>"
            ]
          },
          "metadata": {
            "tags": [],
            "needs_background": "light"
          }
        }
      ]
    },
    {
      "cell_type": "code",
      "metadata": {
        "id": "FDInwFT5EHdx"
      },
      "source": [
        "salary_data.to_excel('Final data.xlsx')"
      ],
      "execution_count": 11,
      "outputs": []
    },
    {
      "cell_type": "code",
      "metadata": {
        "id": "DHTuw7n4kOkF"
      },
      "source": [
        ""
      ],
      "execution_count": 11,
      "outputs": []
    }
  ]
}